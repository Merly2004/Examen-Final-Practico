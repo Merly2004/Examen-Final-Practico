{
  "nbformat": 4,
  "nbformat_minor": 0,
  "metadata": {
    "colab": {
      "provenance": [],
      "authorship_tag": "ABX9TyPDEBBePtsPH9X5PrVSQRRD",
      "include_colab_link": true
    },
    "kernelspec": {
      "name": "python3",
      "display_name": "Python 3"
    },
    "language_info": {
      "name": "python"
    }
  },
  "cells": [
    {
      "cell_type": "markdown",
      "metadata": {
        "id": "view-in-github",
        "colab_type": "text"
      },
      "source": [
        "<a href=\"https://colab.research.google.com/github/Merly2004/Examen-Final-Practico/blob/main/Examen_Final_Practico.ipynb\" target=\"_parent\"><img src=\"https://colab.research.google.com/assets/colab-badge.svg\" alt=\"Open In Colab\"/></a>"
      ]
    },
    {
      "cell_type": "code",
      "source": [
        "import numpy as np\n",
        "import pandas as pd\n",
        "import math"
      ],
      "metadata": {
        "id": "gLU-5irXhfTW"
      },
      "execution_count": 1,
      "outputs": []
    },
    {
      "cell_type": "markdown",
      "source": [
        "#================================\n",
        "#PARTE 1: Fundamentos NumPy\n",
        "#================================"
      ],
      "metadata": {
        "id": "5yO7HxWBkFNV"
      }
    },
    {
      "cell_type": "code",
      "source": [
        "# 1. Crea un arreglo NumPy de dimensión 1 con los números del 1 al 20.\n",
        "arr = np.arange(1, 21)\n",
        "print(\"Parte 1.1 - Arreglo del 1 al 20:\")\n",
        "print(arr)"
      ],
      "metadata": {
        "colab": {
          "base_uri": "https://localhost:8080/"
        },
        "id": "d3u6q_WrhgIl",
        "outputId": "5f7d43d4-7393-4b83-d871-d9776ba4d169"
      },
      "execution_count": 83,
      "outputs": [
        {
          "output_type": "stream",
          "name": "stdout",
          "text": [
            "Parte 1.1 - Arreglo del 1 al 20:\n",
            "[ 1  2  3  4  5  6  7  8  9 10 11 12 13 14 15 16 17 18 19 20]\n"
          ]
        }
      ]
    },
    {
      "cell_type": "code",
      "source": [
        "# 2. Selecciona los múltiplos de 3 de ese arreglo y muéstralos.\n",
        "multiplos_3 = arr[arr % 3 == 0]\n",
        "print(\"Parte 1.2 - Múltiplos de 3:\")\n",
        "print(multiplos_3)"
      ],
      "metadata": {
        "colab": {
          "base_uri": "https://localhost:8080/"
        },
        "id": "xRy3FXsghpwO",
        "outputId": "54cb14f5-2a6c-4416-9cd1-d9f154983649"
      },
      "execution_count": 84,
      "outputs": [
        {
          "output_type": "stream",
          "name": "stdout",
          "text": [
            "Parte 1.2 - Múltiplos de 3:\n",
            "[ 3  6  9 12 15 18]\n"
          ]
        }
      ]
    },
    {
      "cell_type": "code",
      "source": [
        "# 3. Genera una matriz aleatoria de tamaño 5x5 con números entre 0 y 1.\n",
        "matriz = np.random.rand(5, 5)\n",
        "print(\"Parte 1.3 - Matriz aleatoria 5x5:\")\n",
        "print(matriz)"
      ],
      "metadata": {
        "colab": {
          "base_uri": "https://localhost:8080/"
        },
        "id": "i2GYSElPhrSt",
        "outputId": "31b47db7-4730-41e1-9f7a-5bb07a57d9ee"
      },
      "execution_count": 86,
      "outputs": [
        {
          "output_type": "stream",
          "name": "stdout",
          "text": [
            "Parte 1.3 - Matriz aleatoria 5x5:\n",
            "[[0.36876258 0.65106497 0.25894119 0.81825098 0.95165351]\n",
            " [0.46979829 0.54292219 0.33538551 0.17981387 0.93106967]\n",
            " [0.88931762 0.58288268 0.05228386 0.3772295  0.27032162]\n",
            " [0.90974403 0.45564253 0.27836486 0.75043    0.09993464]\n",
            " [0.16456907 0.14248412 0.40499054 0.22015241 0.8721865 ]]\n"
          ]
        }
      ]
    },
    {
      "cell_type": "code",
      "source": [
        "# 4. Calcula la media, la desviación estándar y el valor máximo de esa matriz.\n",
        "media = np.mean(matriz)\n",
        "desv = np.std(matriz)\n",
        "maximo = np.max(matriz)\n",
        "print(\"Parte 1.4 - Estadísticas:\")\n",
        "print(f\"Media: {media}, Desviación Estándar: {desv}, Máximo: {maximo}\")"
      ],
      "metadata": {
        "colab": {
          "base_uri": "https://localhost:8080/"
        },
        "id": "8wbGvZFzhs6N",
        "outputId": "05e83d1a-fb69-44d2-b808-559c25c74b38"
      },
      "execution_count": 87,
      "outputs": [
        {
          "output_type": "stream",
          "name": "stdout",
          "text": [
            "Parte 1.4 - Estadísticas:\n",
            "Media: 0.4791278700189129, Desviación Estándar: 0.28603389138189006, Máximo: 0.9516535128819147\n"
          ]
        }
      ]
    },
    {
      "cell_type": "code",
      "source": [
        "# 5. Transforma la matriz en un vector de una sola dimensión.\n",
        "vector = matriz.flatten()\n",
        "print(\"Parte 1.5 - Matriz a vector:\")\n",
        "print(vector)"
      ],
      "metadata": {
        "colab": {
          "base_uri": "https://localhost:8080/"
        },
        "id": "GhGVTq_dhxru",
        "outputId": "dcc923ea-4b5f-4615-8e97-f3cfd7cecaee"
      },
      "execution_count": 88,
      "outputs": [
        {
          "output_type": "stream",
          "name": "stdout",
          "text": [
            "Parte 1.5 - Matriz a vector:\n",
            "[0.36876258 0.65106497 0.25894119 0.81825098 0.95165351 0.46979829\n",
            " 0.54292219 0.33538551 0.17981387 0.93106967 0.88931762 0.58288268\n",
            " 0.05228386 0.3772295  0.27032162 0.90974403 0.45564253 0.27836486\n",
            " 0.75043    0.09993464 0.16456907 0.14248412 0.40499054 0.22015241\n",
            " 0.8721865 ]\n"
          ]
        }
      ]
    },
    {
      "cell_type": "markdown",
      "source": [
        "# ================================\n",
        "# PARTE 2: Fundamentos Pandas\n",
        "# ================================"
      ],
      "metadata": {
        "id": "5YEQzVXMljzm"
      }
    },
    {
      "cell_type": "code",
      "source": [
        "data = {\n",
        "    \"Nombre\": [\"Ana\", \"Luis\", \"María\", \"Pedro\", \"Sofía\"],\n",
        "    \"Edad\": [20, 21, 19, 22, 20],\n",
        "    \"Nota_Matemáticas\": [18, 15, 16, 12, 19],\n",
        "    \"Nota_IA\": [17, 14, 18, 13, 20]\n",
        "}\n",
        "\n",
        "df = pd.DataFrame(data)\n",
        "print(\"Parte 2.1 - DataFrame inicial:\\n\")\n",
        "print(df)"
      ],
      "metadata": {
        "colab": {
          "base_uri": "https://localhost:8080/"
        },
        "id": "JbjgIvlbh0q2",
        "outputId": "a63d2a3f-109e-4e60-d0cd-c0f1a144491f"
      },
      "execution_count": 89,
      "outputs": [
        {
          "output_type": "stream",
          "name": "stdout",
          "text": [
            "Parte 2.1 - DataFrame inicial:\n",
            "\n",
            "  Nombre  Edad  Nota_Matemáticas  Nota_IA\n",
            "0    Ana    20                18       17\n",
            "1   Luis    21                15       14\n",
            "2  María    19                16       18\n",
            "3  Pedro    22                12       13\n",
            "4  Sofía    20                19       20\n"
          ]
        }
      ]
    },
    {
      "cell_type": "code",
      "source": [
        "# 2. Promedio de cada columna numérica\n",
        "print(\"Parte 2.2 - Promedios:\\n\")\n",
        "print(df.mean(numeric_only=True))"
      ],
      "metadata": {
        "colab": {
          "base_uri": "https://localhost:8080/"
        },
        "id": "9NqrKJksh2ZN",
        "outputId": "e8ca8403-f037-4ecf-b891-d39807083faa"
      },
      "execution_count": 90,
      "outputs": [
        {
          "output_type": "stream",
          "name": "stdout",
          "text": [
            "Parte 2.2 - Promedios:\n",
            "\n",
            "Edad                20.4\n",
            "Nota_Matemáticas    16.0\n",
            "Nota_IA             16.4\n",
            "dtype: float64\n"
          ]
        }
      ]
    },
    {
      "cell_type": "code",
      "source": [
        "# 3. Filtrar estudiantes con Nota_IA > 15\n",
        "print(\"Parte 2.3 - Estudiantes con Nota_IA > 15:\\n\")\n",
        "print(df[df[\"Nota_IA\"] > 15])"
      ],
      "metadata": {
        "colab": {
          "base_uri": "https://localhost:8080/"
        },
        "id": "_wA73yMyh489",
        "outputId": "12089c3e-6e35-471d-d633-c8cb941af6b0"
      },
      "execution_count": 91,
      "outputs": [
        {
          "output_type": "stream",
          "name": "stdout",
          "text": [
            "Parte 2.3 - Estudiantes con Nota_IA > 15:\n",
            "\n",
            "  Nombre  Edad  Nota_Matemáticas  Nota_IA\n",
            "0    Ana    20                18       17\n",
            "2  María    19                16       18\n",
            "4  Sofía    20                19       20\n"
          ]
        }
      ]
    },
    {
      "cell_type": "code",
      "source": [
        "# 4. Nueva columna 'Promedio'\n",
        "df[\"Promedio\"] = df[[\"Nota_Matemáticas\", \"Nota_IA\"]].mean(axis=1)\n",
        "print(\"Parte 2.4 - DataFrame con Promedio:\\n\")\n",
        "print(df)"
      ],
      "metadata": {
        "colab": {
          "base_uri": "https://localhost:8080/"
        },
        "id": "QM_SYOChh6Eu",
        "outputId": "2ef40e4b-5125-408f-9e69-2f1afc1bebbe"
      },
      "execution_count": 92,
      "outputs": [
        {
          "output_type": "stream",
          "name": "stdout",
          "text": [
            "Parte 2.4 - DataFrame con Promedio:\n",
            "\n",
            "  Nombre  Edad  Nota_Matemáticas  Nota_IA  Promedio\n",
            "0    Ana    20                18       17      17.5\n",
            "1   Luis    21                15       14      14.5\n",
            "2  María    19                16       18      17.0\n",
            "3  Pedro    22                12       13      12.5\n",
            "4  Sofía    20                19       20      19.5\n"
          ]
        }
      ]
    },
    {
      "cell_type": "code",
      "source": [
        "# 5. Ordenar por Promedio\n",
        "# Ensure that cell QM_SYOChh6Eu has been executed to create the 'Promedio' column in the DataFrame 'df'.\n",
        "df_ordenado = df.sort_values(by=\"Promedio\", ascending=False)\n",
        "print(\"Parte 2.5 - DataFrame ordenado por Promedio:\\n\")\n",
        "print(df_ordenado)"
      ],
      "metadata": {
        "colab": {
          "base_uri": "https://localhost:8080/"
        },
        "id": "lDDTai4vh7aN",
        "outputId": "7be2a796-cad3-4b34-d0be-35584cde6fa9"
      },
      "execution_count": 94,
      "outputs": [
        {
          "output_type": "stream",
          "name": "stdout",
          "text": [
            "Parte 2.5 - DataFrame ordenado por Promedio:\n",
            "\n",
            "  Nombre  Edad  Nota_Matemáticas  Nota_IA  Promedio\n",
            "4  Sofía    20                19       20      19.5\n",
            "0    Ana    20                18       17      17.5\n",
            "2  María    19                16       18      17.0\n",
            "1   Luis    21                15       14      14.5\n",
            "3  Pedro    22                12       13      12.5\n"
          ]
        }
      ]
    },
    {
      "cell_type": "markdown",
      "source": [
        "# ================================\n",
        "# PARTE 3: Algoritmia aplicada\n",
        "# ================================"
      ],
      "metadata": {
        "id": "p3V_Y8nTl8d-"
      }
    },
    {
      "cell_type": "code",
      "source": [
        "# 1. Función que recibe lista y devuelve mayor, menor y promedio\n",
        "def resumen_lista(nums):\n",
        "    return {\n",
        "        \"Mayor\": max(nums),\n",
        "        \"Menor\": min(nums),\n",
        "        \"Promedio\": sum(nums)/len(nums)\n",
        "    }\n",
        "\n",
        "print(\"Parte 3.1 → Resumen de lista [4, 7, 1, 9, 3]:\")\n",
        "print(resumen_lista([4, 7, 1, 9, 3]))"
      ],
      "metadata": {
        "colab": {
          "base_uri": "https://localhost:8080/"
        },
        "id": "71tOINL6h9oO",
        "outputId": "1fb8c9ef-e538-4610-cfe0-e7e6834ea289"
      },
      "execution_count": 58,
      "outputs": [
        {
          "output_type": "stream",
          "name": "stdout",
          "text": [
            "Parte 3.1 → Resumen de lista [4, 7, 1, 9, 3]:\n",
            "{'Mayor': 9, 'Menor': 1, 'Promedio': 4.8}\n"
          ]
        }
      ]
    },
    {
      "cell_type": "code",
      "source": [
        "# 2. Función de activación Sigmoide\n",
        "sig = lambda x: 1 / (1 + np.exp(-x))\n",
        "entrada = np.array([-2, -1, 0, 1, 2])\n",
        "print(\"Parte 3.2 → Sigmoide aplicada:\")\n",
        "print(sig(entrada))"
      ],
      "metadata": {
        "colab": {
          "base_uri": "https://localhost:8080/"
        },
        "id": "fUhvXW-DiAEN",
        "outputId": "7e2b74ff-d75e-42e4-e1d8-1f3953f49195"
      },
      "execution_count": 59,
      "outputs": [
        {
          "output_type": "stream",
          "name": "stdout",
          "text": [
            "Parte 3.2 → Sigmoide aplicada:\n",
            "[0.11920292 0.26894142 0.5        0.73105858 0.88079708]\n"
          ]
        }
      ]
    },
    {
      "cell_type": "code",
      "source": [
        "# 3. Clasificación Aprobado/Desaprobado\n",
        "df[\"Estado\"] = np.where(df[\"Promedio\"] >= 14, \"Aprobado\", \"Desaprobado\")\n",
        "print(\"\\nParte 3.3 - DataFrame con Estado:\")\n",
        "print(df)"
      ],
      "metadata": {
        "colab": {
          "base_uri": "https://localhost:8080/"
        },
        "id": "r1tT1QSziB8c",
        "outputId": "a94963a3-ca38-4865-dd93-60f6a1d41a78"
      },
      "execution_count": 69,
      "outputs": [
        {
          "output_type": "stream",
          "name": "stdout",
          "text": [
            "\n",
            "Parte 3.3 - DataFrame con Estado:\n",
            "  Nombre  Edad  Nota_Matemáticas  Nota_IA  Promedio       Estado\n",
            "0    Ana    20                18       17      17.5     Aprobado\n",
            "1   Luis    21                15       14      14.5     Aprobado\n",
            "2  María    19                16       18      17.0     Aprobado\n",
            "3  Pedro    22                12       13      12.5  Desaprobado\n",
            "4  Sofía    20                19       20      19.5     Aprobado\n"
          ]
        }
      ]
    },
    {
      "cell_type": "markdown",
      "source": [
        "# ================================\n",
        "# PARTE 4: Mini-proyecto\n",
        "# ================================"
      ],
      "metadata": {
        "id": "pFHgwBdQptkt"
      }
    },
    {
      "cell_type": "code",
      "source": [
        "# Dataset simulado de ventas\n",
        "ventas = pd.DataFrame({\n",
        "    \"Producto\": [\"A\", \"B\", \"C\", \"D\"],\n",
        "    \"Ventas_2024\": [100, 150, 200, 250],\n",
        "    \"Ventas_2025\": [120, 180, 240, 400]\n",
        "})"
      ],
      "metadata": {
        "id": "-c6gB4zriDit"
      },
      "execution_count": 15,
      "outputs": []
    },
    {
      "cell_type": "code",
      "source": [
        "# 1. Columna Crecimiento\n",
        "ventas[\"Crecimiento\"] = ((ventas[\"Ventas_2025\"] - ventas[\"Ventas_2024\"]) / ventas[\"Ventas_2024\"]) * 100\n",
        "print(\"Parte 4.1 - Dataset con Crecimiento:\\n\")\n",
        "print(ventas)"
      ],
      "metadata": {
        "colab": {
          "base_uri": "https://localhost:8080/"
        },
        "id": "D-NZp5qHiGY9",
        "outputId": "64bb2cf3-2a82-4a8f-e976-77247ae9d1cd"
      },
      "execution_count": 95,
      "outputs": [
        {
          "output_type": "stream",
          "name": "stdout",
          "text": [
            "Parte 4.1 - Dataset con Crecimiento:\n",
            "\n",
            "  Producto  Ventas_2024  Ventas_2025  Crecimiento\n",
            "0        A          100          120         20.0\n",
            "1        B          150          180         20.0\n",
            "2        C          200          240         20.0\n",
            "3        D          250          400         60.0\n"
          ]
        }
      ]
    },
    {
      "cell_type": "code",
      "source": [
        "# 2. Producto con mayor crecimiento\n",
        "mayor_crecimiento = ventas.loc[ventas[\"Crecimiento\"].idxmax()]\n",
        "print(\"Parte 4.2 - Producto con mayor crecimiento:\\n\")\n",
        "print(mayor_crecimiento)"
      ],
      "metadata": {
        "colab": {
          "base_uri": "https://localhost:8080/"
        },
        "id": "V1emvWw3iHyF",
        "outputId": "065c48e0-8ed0-456b-d232-2b00fd03bb6e"
      },
      "execution_count": 96,
      "outputs": [
        {
          "output_type": "stream",
          "name": "stdout",
          "text": [
            "Parte 4.2 - Producto con mayor crecimiento:\n",
            "\n",
            "Producto          D\n",
            "Ventas_2024     250\n",
            "Ventas_2025     400\n",
            "Crecimiento    60.0\n",
            "Name: 3, dtype: object\n"
          ]
        }
      ]
    },
    {
      "cell_type": "markdown",
      "source": [
        "# ================================\n",
        "# PARTE 5: Resolución de ecuaciones\n",
        "# ================================"
      ],
      "metadata": {
        "id": "ZWkpLOGmp2DN"
      }
    },
    {
      "cell_type": "code",
      "source": [
        "# 1. Ecuación de primer grado ax + b = 0\n",
        "def resolver_lineal(a, b):\n",
        "    if a == 0:\n",
        "        return \"Sin solución\" if b != 0 else \"Infinitas soluciones\"\n",
        "    return -b / a\n",
        "\n",
        "print(\"Parte 5.1 - Ecuación 2x + 4 = 0:\")\n",
        "print(\"Respuesta es:\", resolver_lineal(2, 4))\n"
      ],
      "metadata": {
        "colab": {
          "base_uri": "https://localhost:8080/"
        },
        "id": "9HwAV0SbiKgl",
        "outputId": "6ec486be-452e-44ae-c3cc-2b3a29b10eba"
      },
      "execution_count": 101,
      "outputs": [
        {
          "output_type": "stream",
          "name": "stdout",
          "text": [
            "Parte 5.1 - Ecuación 2x + 4 = 0:\n",
            "Respuesta es: -2.0\n"
          ]
        }
      ]
    },
    {
      "cell_type": "code",
      "source": [
        "# 2. Ecuación de segundo grado ax^2 + bx + c = 0\n",
        "def resolver_cuadratica(a, b, c):\n",
        "    discriminante = b**2 - 4*a*c\n",
        "    if discriminante >= 0:\n",
        "        x1 = (-b + math.sqrt(discriminante)) / (2*a)\n",
        "        x2 = (-b - math.sqrt(discriminante)) / (2*a)\n",
        "    else:\n",
        "        # soluciones complejas\n",
        "        real = -b / (2*a)\n",
        "        imag = math.sqrt(-discriminante) / (2*a)\n",
        "        x1 = complex(real, imag)\n",
        "        x2 = complex(real, -imag)\n",
        "    return x1, x2\n",
        "\n",
        "print(\"\\nParte 5.2 - Ecuación x^2 - 5x + 6 = 0:\")\n",
        "print(\"Respuesta es:\", resolver_cuadratica(1, -5, 6))"
      ],
      "metadata": {
        "colab": {
          "base_uri": "https://localhost:8080/"
        },
        "id": "YfGVNdwXiNyN",
        "outputId": "8dba16d5-3949-4b3c-ddd8-a23e51864032"
      },
      "execution_count": 100,
      "outputs": [
        {
          "output_type": "stream",
          "name": "stdout",
          "text": [
            "\n",
            "Parte 5.2 - Ecuación x^2 - 5x + 6 = 0:\n",
            "Respuesta es: (3.0, 2.0)\n"
          ]
        }
      ]
    }
  ]
}